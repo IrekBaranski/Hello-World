{
  "nbformat": 4,
  "nbformat_minor": 0,
  "metadata": {
    "colab": {
      "name": "Kopia notatnika Wyzwanie 1 z 5.ipynb",
      "provenance": [],
      "collapsed_sections": [],
      "include_colab_link": true
    },
    "kernelspec": {
      "name": "python3",
      "display_name": "Python 3"
    },
    "language_info": {
      "name": "python"
    }
  },
  "cells": [
    {
      "cell_type": "markdown",
      "metadata": {
        "id": "view-in-github",
        "colab_type": "text"
      },
      "source": [
        "<a href=\"https://colab.research.google.com/github/IrekBaranski/Hello-World/blob/master/Kopia_notatnika_Wyzwanie_1_z_5.ipynb\" target=\"_parent\"><img src=\"https://colab.research.google.com/assets/colab-badge.svg\" alt=\"Open In Colab\"/></a>"
      ]
    },
    {
      "cell_type": "markdown",
      "source": [
        "# Witaj w pierwszym wyzwaniu Praktycznego Pythona!"
      ],
      "metadata": {
        "id": "vkSKOer5yPo4"
      }
    },
    {
      "cell_type": "markdown",
      "source": [
        "👉 Wyzwanie na dziś: gra komputerowa!"
      ],
      "metadata": {
        "id": "rgU0JezOsX3O"
      }
    },
    {
      "cell_type": "markdown",
      "source": [
        "⚠️ Najpierw zrób kopię tego dokumentu - kliknij przycisk \"copy to Drive\" (\"skopiuj na dysk\").\n"
      ],
      "metadata": {
        "id": "kbJWlKAeonAn"
      }
    },
    {
      "cell_type": "code",
      "source": [
        "# Aby uruchomić kod, kliknij przycisk \"play\" po lewej stronie.\n",
        "# Sposób PRO: shift+enter\n",
        "print(\"Cześć!\")"
      ],
      "metadata": {
        "id": "FQwtHBkrySuI"
      },
      "execution_count": null,
      "outputs": []
    },
    {
      "cell_type": "markdown",
      "source": [
        "# 1. Twoje pierwsze NARZĘDZIA"
      ],
      "metadata": {
        "id": "dGixXenZqCvt"
      }
    },
    {
      "cell_type": "code",
      "source": [
        "# Składnia: nazwa_funkcji ( argument1, argument2, ... )\n",
        "print(\"Napis\")"
      ],
      "metadata": {
        "colab": {
          "base_uri": "https://localhost:8080/"
        },
        "id": "T-igDQJuqFH3",
        "outputId": "952603e7-1921-4c4f-836d-70a1f57af63e"
      },
      "execution_count": null,
      "outputs": [
        {
          "output_type": "stream",
          "name": "stdout",
          "text": [
            "Napis\n"
          ]
        }
      ]
    },
    {
      "cell_type": "code",
      "source": [
        "# Funkcje mogą nie tylko przyjmować ARGUMENTY, ale także ZWRACAĆ wartość.\n",
        "line = input(\"Podaj linię tekstu: \")"
      ],
      "metadata": {
        "colab": {
          "base_uri": "https://localhost:8080/"
        },
        "id": "vQ3U79r3qi5q",
        "outputId": "74c55e69-ec2f-4d2c-f04f-034d3340fb3d"
      },
      "execution_count": null,
      "outputs": [
        {
          "name": "stdout",
          "output_type": "stream",
          "text": [
            "Podaj linię tekstu: asdf ghjk\n"
          ]
        }
      ]
    },
    {
      "cell_type": "code",
      "source": [
        "print(line)"
      ],
      "metadata": {
        "colab": {
          "base_uri": "https://localhost:8080/"
        },
        "id": "3m6CxTJrquUj",
        "outputId": "e40cc553-9db8-40ec-d4be-510e5f96f983"
      },
      "execution_count": null,
      "outputs": [
        {
          "output_type": "stream",
          "name": "stdout",
          "text": [
            "asdf ghjk\n"
          ]
        }
      ]
    },
    {
      "cell_type": "code",
      "source": [
        "# Wiele narzędzi jest już gotowych na Twoim biurku - tak jak `print` czy `input`.\n",
        "# Niektóre funkcje trzeba zaimportować - wyciągnąć je z szuflady na stół.\n",
        "from random import randint\n",
        "\n",
        "random_number = randint(1, 100)\n",
        "print(random_number)"
      ],
      "metadata": {
        "colab": {
          "base_uri": "https://localhost:8080/"
        },
        "id": "8_5NMpYAq3AA",
        "outputId": "74846a59-b94a-4660-ef50-0afea4d30ce3"
      },
      "execution_count": null,
      "outputs": [
        {
          "output_type": "stream",
          "name": "stdout",
          "text": [
            "11\n"
          ]
        }
      ]
    },
    {
      "cell_type": "markdown",
      "source": [
        "# 2. Takie same, a jednak inne"
      ],
      "metadata": {
        "id": "A0VqvFdDrQcW"
      }
    },
    {
      "cell_type": "code",
      "source": [
        "# Każda porcja informacji ma określony typ, np. liczba (int) albo napis (str).\n",
        "line = input('Podaj liczbę: ')\n",
        "print(line)\n",
        "print(type(line))  # jakiego typu jest `line`?"
      ],
      "metadata": {
        "colab": {
          "base_uri": "https://localhost:8080/"
        },
        "id": "1cZstniFrR0s",
        "outputId": "0b8bc66e-c5e8-47c4-b701-5dd1a8d7dc90"
      },
      "execution_count": null,
      "outputs": [
        {
          "output_type": "stream",
          "name": "stdout",
          "text": [
            "Podaj liczbę: 10\n",
            "10\n",
            "<class 'str'>\n"
          ]
        }
      ]
    },
    {
      "cell_type": "code",
      "source": [
        "# Na każdym typie danych można wykonywać inne operacje.\n",
        "# `line` jest typu str (napis), więc na razie nie możemy traktować go jak liczby:\n",
        "print(100 + line)"
      ],
      "metadata": {
        "colab": {
          "base_uri": "https://localhost:8080/",
          "height": 222
        },
        "id": "OetYq1UHrhc-",
        "outputId": "359ca674-a8a4-4955-a02b-163ed000976a"
      },
      "execution_count": null,
      "outputs": [
        {
          "output_type": "error",
          "ename": "TypeError",
          "evalue": "ignored",
          "traceback": [
            "\u001b[0;31m---------------------------------------------------------------------------\u001b[0m",
            "\u001b[0;31mTypeError\u001b[0m                                 Traceback (most recent call last)",
            "\u001b[0;32m<ipython-input-8-a886cbaa0db4>\u001b[0m in \u001b[0;36m<module>\u001b[0;34m()\u001b[0m\n\u001b[1;32m      1\u001b[0m \u001b[0;31m# Na każdym typie danych można wykonywać inne operacje.\u001b[0m\u001b[0;34m\u001b[0m\u001b[0;34m\u001b[0m\u001b[0;34m\u001b[0m\u001b[0m\n\u001b[1;32m      2\u001b[0m \u001b[0;31m# `line` jest typu str (napis), więc na razie nie możemy traktować go jak liczby:\u001b[0m\u001b[0;34m\u001b[0m\u001b[0;34m\u001b[0m\u001b[0;34m\u001b[0m\u001b[0m\n\u001b[0;32m----> 3\u001b[0;31m \u001b[0mprint\u001b[0m\u001b[0;34m(\u001b[0m\u001b[0;36m100\u001b[0m \u001b[0;34m+\u001b[0m \u001b[0mline\u001b[0m\u001b[0;34m)\u001b[0m\u001b[0;34m\u001b[0m\u001b[0;34m\u001b[0m\u001b[0m\n\u001b[0m",
            "\u001b[0;31mTypeError\u001b[0m: unsupported operand type(s) for +: 'int' and 'str'"
          ]
        }
      ]
    },
    {
      "cell_type": "code",
      "source": [
        "# Musimy zmienić tekst w liczbę - a właściwie STWORZYĆ nową liczbę na podstawie tekstu.\n",
        "number = int(line)\n",
        "print(number)\n",
        "print(type(number))\n",
        "print(100 + number)"
      ],
      "metadata": {
        "colab": {
          "base_uri": "https://localhost:8080/"
        },
        "id": "IGtiToBJrzLP",
        "outputId": "e08c462f-ddec-44df-b397-e85f619b4db0"
      },
      "execution_count": null,
      "outputs": [
        {
          "output_type": "stream",
          "name": "stdout",
          "text": [
            "10\n",
            "<class 'int'>\n",
            "110\n"
          ]
        }
      ]
    },
    {
      "cell_type": "markdown",
      "source": [
        "# 3. Gdzie pojedzie pociąg?"
      ],
      "metadata": {
        "id": "0OXZyyHmsloc"
      }
    },
    {
      "cell_type": "code",
      "source": [
        "# Normalnie kod jest wykonywany od góry do dołu, linia po linii.\n",
        "# Jeśli jednak chcesz zrobić rozjazd, tak aby Twój pociąg pojechał w lewo lub prawo, to wykorzystaj if-else:\n",
        "x = 10\n",
        "if x >= 1000:\n",
        "    print(\"Duża liczba\")\n",
        "else:  # (!) brak warunku\n",
        "    print(\"Mała liczba\")\n",
        "print(\"Koniec\")"
      ],
      "metadata": {
        "colab": {
          "base_uri": "https://localhost:8080/"
        },
        "id": "pk88AoSUstU9",
        "outputId": "0e07a244-029a-46c4-ffa4-2df83ee1eaf4"
      },
      "execution_count": null,
      "outputs": [
        {
          "output_type": "stream",
          "name": "stdout",
          "text": [
            "Mała liczba\n",
            "Koniec\n"
          ]
        }
      ]
    },
    {
      "cell_type": "code",
      "source": [
        "# Inne OPERATORY\n",
        "x = 0\n",
        "if x == 0:  # (!) dwa znaki równości\n",
        "    print(\"Jest zerem!\")\n",
        "if x != 0:  # != oznacza różny\n",
        "    print(\"Nie jest zerem\")"
      ],
      "metadata": {
        "id": "dPe2NF-CtErk"
      },
      "execution_count": null,
      "outputs": []
    },
    {
      "cell_type": "code",
      "source": [
        "# Instrukcja while - pozwala powtarzać pewne operacje wiele razy tak długo, dopóty jest spełniony pewien warunek.\n",
        "counter = 8\n",
        "while counter > 0:\n",
        "    print(counter)\n",
        "    counter = counter - 1\n",
        "print(\"Koniec\")"
      ],
      "metadata": {
        "colab": {
          "base_uri": "https://localhost:8080/"
        },
        "id": "-dZ4Urm_tOlT",
        "outputId": "3dc65da4-a036-40d6-9847-284260024f79"
      },
      "execution_count": null,
      "outputs": [
        {
          "output_type": "stream",
          "name": "stdout",
          "text": [
            "8\n",
            "7\n",
            "6\n",
            "5\n",
            "4\n",
            "3\n",
            "2\n",
            "1\n",
            "Koniec\n"
          ]
        }
      ]
    },
    {
      "cell_type": "markdown",
      "source": [
        "# Wyzwanie dla Ciebie\n",
        "\n",
        "Poniżej widzisz grę komputerową. Komputer losuje liczbę z zakresu 1-20, a zadaniem gracza jest odgadnąć tę liczbę. Za każdym razem komputer podpowiada graczowi, czy podał liczbę za małą czy za dużą.\n",
        "\n",
        "Jeżeli utkniesz, to wycofaj wszystkie zmiany (Ctrl+Z) i wróć do początkowej wersji."
      ],
      "metadata": {
        "id": "6SAgUorEyFdp"
      }
    },
    {
      "cell_type": "code",
      "source": [
        "from random import randint\n",
        "\n",
        "answer = randint(1, 20)\n",
        "\n",
        "guess_as_str = input(\"Zgadnij liczbę: \")\n",
        "# test if guess_as_str = typ int, answer \n",
        "guess = int(guess_as_str)\n",
        "while guess != answer :\n",
        "    if guess < answer :\n",
        "        print(\"Za mała!\")\n",
        "    else:\n",
        "        print(\"Za duża!\")\n",
        "    guess_as_str = input(\"Zgadnij liczbę: \")\n",
        "    guess = int(guess_as_str)\n",
        "\n",
        "print(\"Brawo!\")"
      ],
      "metadata": {
        "id": "Hadj-lpC1l34",
        "colab": {
          "base_uri": "https://localhost:8080/"
        },
        "outputId": "708eb006-d6ae-4916-fe09-a86b5cabd129"
      },
      "execution_count": null,
      "outputs": [
        {
          "output_type": "stream",
          "name": "stdout",
          "text": [
            "Zgadnij liczbę: 5\n",
            "Za mała!\n",
            "Zgadnij liczbę: 9\n",
            "Za duża!\n",
            "Zgadnij liczbę: 8\n",
            "Brawo!\n"
          ]
        }
      ]
    },
    {
      "cell_type": "markdown",
      "source": [
        ""
      ],
      "metadata": {
        "id": "Kj1YaVKdM5OG"
      }
    }
  ]
}